{
  "nbformat": 4,
  "nbformat_minor": 0,
  "metadata": {
    "colab": {
      "provenance": [],
      "authorship_tag": "ABX9TyP1Vd+advi/9P1bB8cJoWJJ",
      "include_colab_link": true
    },
    "kernelspec": {
      "name": "python3",
      "display_name": "Python 3"
    },
    "language_info": {
      "name": "python"
    }
  },
  "cells": [
    {
      "cell_type": "markdown",
      "metadata": {
        "id": "view-in-github",
        "colab_type": "text"
      },
      "source": [
        "<a href=\"https://colab.research.google.com/github/Palak1593/Python_Assignment/blob/main/ComboFinder.ipynb\" target=\"_parent\"><img src=\"https://colab.research.google.com/assets/colab-badge.svg\" alt=\"Open In Colab\"/></a>"
      ]
    },
    {
      "cell_type": "code",
      "execution_count": 15,
      "metadata": {
        "colab": {
          "base_uri": "https://localhost:8080/"
        },
        "id": "ArBtwX-W1os0",
        "outputId": "a987fec8-8566-413e-e1dc-e34580b78590"
      },
      "outputs": [
        {
          "output_type": "stream",
          "name": "stdout",
          "text": [
            "('p1', 'p10', 'p11', 'p4', 'p5', 'p7', 'p9')\n",
            "('p11', 'p12', 'p4', 'p6', 'p7', 'p9')\n",
            "('p1', 'p10', 'p11', 'p12', 'p4', 'p5', 'p6')\n",
            "('p1', 'p12', 'p13', 'p2', 'p5', 'p8', 'p9')\n",
            "('p1', 'p11', 'p12', 'p14', 'p2', 'p3', 'p5', 'p8')\n",
            "('p10', 'p12', 'p14', 'p3', 'p4', 'p5', 'p8')\n",
            "('p11', 'p13', 'p2', 'p5', 'p6', 'p7', 'p8')\n",
            "('p10', 'p12', 'p14', 'p5', 'p8', 'p9')\n",
            "('p11', 'p14', 'p3', 'p5', 'p7', 'p8', 'p9')\n",
            "('p13', 'p14', 'p3', 'p5', 'p6', 'p8', 'p9')\n",
            "('p10', 'p12', 'p14', 'p4', 'p8', 'p9')\n",
            "('p12', 'p13', 'p4', 'p6', 'p7', 'p8')\n",
            "('p1', 'p11', 'p13', 'p14', 'p4', 'p7', 'p8')\n",
            "('p1', 'p10', 'p11', 'p14', 'p6', 'p7', 'p8')\n",
            "('p1', 'p10', 'p11', 'p2', 'p4', 'p5', 'p6', 'p9')\n",
            "('p13', 'p4', 'p5', 'p6', 'p7', 'p8', 'p9')\n",
            "('p1', 'p10', 'p12', 'p13', 'p2', 'p4', 'p8')\n",
            "('p1', 'p10', 'p13', 'p2', 'p3', 'p5', 'p6', 'p9')\n",
            "('p1', 'p12', 'p13', 'p3', 'p4', 'p5', 'p6', 'p8')\n",
            "('p1', 'p10', 'p12', 'p14', 'p2', 'p7', 'p8')\n",
            "('p1', 'p11', 'p14', 'p2', 'p5', 'p6', 'p7', 'p9')\n",
            "('p1', 'p11', 'p12', 'p14', 'p2', 'p5', 'p9')\n",
            "('p1', 'p12', 'p13', 'p14', 'p4', 'p5', 'p7')\n",
            "('p1', 'p10', 'p12', 'p2', 'p3', 'p6', 'p7', 'p8')\n",
            "('p1', 'p12', 'p14', 'p2', 'p4', 'p6', 'p8', 'p9')\n",
            "('p1', 'p13', 'p14', 'p3', 'p5', 'p6', 'p8', 'p9')\n",
            "('p1', 'p10', 'p11', 'p14', 'p2', 'p4', 'p5', 'p9')\n",
            "('p10', 'p11', 'p14', 'p3', 'p5', 'p6', 'p8')\n",
            "Total subsets are 28\n"
          ]
        }
      ],
      "source": [
        "\"\"\"Find all the list of products whose sum-of-price is between 290 and 310.\n",
        "\n",
        "ProductList = {p1:10, p2:15, p3:20, p4:25, p5:30, p6:35, 'p7:50','p8':40, 'p9':55, 'p10':60, 'p11':65, 'p12':75, 'p13':70,\n",
        "               'p14':45}\"\"\"\n",
        "\n",
        "import random as r \n",
        "ProductList = { 'p1':10, 'p2':15, 'p3':20, 'p4':25, 'p5':30, 'p6':35, 'p7':50,'p8':40, 'p9':55, 'p10':60, 'p11':65, 'p12':75, 'p13':70,\n",
        "               'p14':45}\n",
        "result=[]\n",
        "for i in range(1000):\n",
        "    size=r.randint(1,8)\n",
        "    rs=r.sample(list(ProductList.keys()),size)\n",
        "    rs.sort()\n",
        "    #for i in rs:\n",
        "    combosum = sum([ ProductList[i] for i in rs])\n",
        "     #combosum= sum(ProductList[i])\n",
        "\n",
        "    if (combosum >290 and combosum<310):\n",
        "        result.append(tuple(rs))\n",
        "for subsets in result:\n",
        "  print(subsets)\n",
        "print(\"Total subsets are\",len(result))\n",
        "\n",
        "\n",
        "\n"
      ]
    }
  ]
}