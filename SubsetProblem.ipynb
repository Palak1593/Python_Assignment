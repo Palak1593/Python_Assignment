{
  "nbformat": 4,
  "nbformat_minor": 0,
  "metadata": {
    "colab": {
      "provenance": [],
      "authorship_tag": "ABX9TyP2ogQzKm4NONCzVgXepVrL",
      "include_colab_link": true
    },
    "kernelspec": {
      "name": "python3",
      "display_name": "Python 3"
    },
    "language_info": {
      "name": "python"
    }
  },
  "cells": [
    {
      "cell_type": "markdown",
      "metadata": {
        "id": "view-in-github",
        "colab_type": "text"
      },
      "source": [
        "<a href=\"https://colab.research.google.com/github/Palak1593/Python_Assignment/blob/main/SubsetProblem.ipynb\" target=\"_parent\"><img src=\"https://colab.research.google.com/assets/colab-badge.svg\" alt=\"Open In Colab\"/></a>"
      ]
    },
    {
      "cell_type": "code",
      "source": [
        "\"\"\"Find all the subsets from a set of numbers whose sum is zero.\n",
        "Constraint: Subset size must be 5\n",
        "Set={-12, -3, -6, 7, 2, -2, 6, 3, 9, -7, -5, -8, 1, 11, -9, -4}\"\"\"\n",
        "\n",
        "import random as r\n",
        "Set=[-12, -3, -6, 7, 2, -2, 6, 3, 9, -7, -5, -8, 1, 11, -9, -4]\n",
        "subset_size=5\n",
        "resultlist=[]\n",
        "iterations=1000\n",
        "\n",
        "for  i in range(iterations):\n",
        "  rs=r.sample(Set,subset_size) #rs contains sample of 5 random numbers \n",
        "  rs.sort() #The purpose of sorting the elements in ascending order is to ensure that sets with the same elements\n",
        "            # but in a different order are considered equal. By sorting the elements, any duplicate sets with a different element order \n",
        "            #will be considered the same and will be added to the ResultList only once.\n",
        "  if sum(rs)==0:\n",
        "    resultlist.append(tuple(rs))  #rs is converted into tupke to make it hashable.an object is considered hashable if \n",
        "                                  #it has a hash value that never changes during its lifetime and can be compared to other objects\n",
        "\n",
        "for subsets in resultlist:   \n",
        "   print(subsets)    \n",
        "print(\"Total subset are \",len(resultlist))"
      ],
      "metadata": {
        "colab": {
          "base_uri": "https://localhost:8080/"
        },
        "id": "ZJdhnGSYnop0",
        "outputId": "b9f4ae10-2e25-4771-90d9-0569fbf16215"
      },
      "execution_count": 40,
      "outputs": [
        {
          "output_type": "stream",
          "name": "stdout",
          "text": [
            "(-9, -5, -4, 7, 11)\n",
            "(-6, -3, 1, 2, 6)\n",
            "(-12, -3, 1, 3, 11)\n",
            "(-6, -4, -2, 1, 11)\n",
            "(-12, -8, 2, 7, 11)\n",
            "(-9, -8, -3, 9, 11)\n",
            "(-8, -4, 2, 3, 7)\n",
            "(-7, -4, 2, 3, 6)\n",
            "(-8, -5, -2, 6, 9)\n",
            "(-8, -4, 1, 2, 9)\n",
            "(-12, -6, 1, 6, 11)\n",
            "(-9, -5, 1, 2, 11)\n",
            "(-12, -9, 3, 7, 11)\n",
            "(-6, -3, -2, 2, 9)\n",
            "(-8, -7, -2, 6, 11)\n",
            "(-7, -4, -2, 6, 7)\n",
            "(-9, -7, 1, 6, 9)\n",
            "(-9, -3, 2, 3, 7)\n",
            "(-12, -2, 2, 3, 9)\n",
            "(-8, -4, -3, 6, 9)\n",
            "Total subset are  20\n"
          ]
        }
      ]
    },
    {
      "cell_type": "code",
      "source": [
        "\"\"\"Find all the subsets from a set of numbers whose sum is zero.\n",
        "Constraint: Subset size must be 3 to 6 only\n",
        "Set={-12, -3, -6, 7, 2, -2, 6, 3, 9, -7, -5, -8, 1, 11, -9, -4}\"\"\"\n",
        "import random as r\n",
        "Set= [-12, -3, -6, 7, 2, -2, 6, 3, 9, -7, -5, -8, 1, 11, -9, -4]\n",
        "resultlist=[]\n",
        "iterations=1000\n",
        "subset_size=r.randint(3,6)\n",
        "\n",
        "for i in range(iterations):\n",
        "  rs= r.sample(Set,subset_size)\n",
        "  rs.sort()\n",
        "  if sum(rs)==0:\n",
        "    resultlist.append(tuple(rs))\n",
        "\n",
        "for subsets in resultlist:\n",
        "  print(subsets)\n",
        "print(\"Total subsets are\",len(resultlist))\n",
        "\n",
        "\n"
      ],
      "metadata": {
        "colab": {
          "base_uri": "https://localhost:8080/"
        },
        "id": "fkdxckFryrpW",
        "outputId": "552df9d5-e03a-45f5-d119-7dd2184839b8"
      },
      "execution_count": 48,
      "outputs": [
        {
          "output_type": "stream",
          "name": "stdout",
          "text": [
            "(-8, -5, 6, 7)\n",
            "(-4, -3, 1, 6)\n",
            "(-8, -2, 3, 7)\n",
            "(-12, 2, 3, 7)\n",
            "(-7, -6, 6, 7)\n",
            "(-9, -8, 6, 11)\n",
            "(-6, 1, 2, 3)\n",
            "(-7, -4, 2, 9)\n",
            "(-8, -3, 2, 9)\n",
            "(-6, -5, 2, 9)\n",
            "(-5, -3, 2, 6)\n",
            "(-7, -3, 1, 9)\n",
            "(-7, -2, 3, 6)\n",
            "(-5, -2, 1, 6)\n",
            "(-12, 2, 3, 7)\n",
            "(-9, -2, 2, 9)\n",
            "(-7, -2, 2, 7)\n",
            "(-8, -5, 6, 7)\n",
            "(-7, -3, 1, 9)\n",
            "(-12, -4, 7, 9)\n",
            "(-6, -3, 2, 7)\n",
            "(-7, -3, 1, 9)\n",
            "(-5, -4, -2, 11)\n",
            "(-6, -5, 2, 9)\n",
            "Total subsets are 24\n"
          ]
        }
      ]
    }
  ]
}